{
  "nbformat": 4,
  "nbformat_minor": 0,
  "metadata": {
    "colab": {
      "name": "AI_05_최중훈_Section1.ipynb",
      "private_outputs": true,
      "provenance": [],
      "collapsed_sections": [],
      "toc_visible": true,
      "authorship_tag": "ABX9TyOsh6zGUVle3XsBjqsSAuLQ",
      "include_colab_link": true
    },
    "kernelspec": {
      "name": "python3",
      "display_name": "Python 3"
    },
    "language_info": {
      "name": "python"
    }
  },
  "cells": [
    {
      "cell_type": "markdown",
      "metadata": {
        "id": "view-in-github",
        "colab_type": "text"
      },
      "source": [
        "<a href=\"https://colab.research.google.com/github/TommyChoiDS/ds-section1-project/blob/main/AI_05_%EC%B5%9C%EC%A4%91%ED%9B%88_Section1.ipynb\" target=\"_parent\"><img src=\"https://colab.research.google.com/assets/colab-badge.svg\" alt=\"Open In Colab\"/></a>"
      ]
    },
    {
      "cell_type": "markdown",
      "metadata": {
        "id": "n4e4grHCoB0c"
      },
      "source": [
        "# Data , Library import"
      ]
    },
    {
      "cell_type": "code",
      "metadata": {
        "id": "FJG-aL4nz9R6"
      },
      "source": [
        "import pandas as pd\n",
        "import numpy as np\n",
        "import plotly.express as px\n"
      ],
      "execution_count": null,
      "outputs": []
    },
    {
      "cell_type": "code",
      "metadata": {
        "id": "_4lDCtaHNyT1"
      },
      "source": [
        "df = pd.read_csv('https://ds-lecture-data.s3.ap-northeast-2.amazonaws.com/datasets/vgames2.csv',index_col = 0)"
      ],
      "execution_count": null,
      "outputs": []
    },
    {
      "cell_type": "code",
      "metadata": {
        "id": "hQUMiEY-EXCU"
      },
      "source": [
        "pd.set_option('display.max_row', None)\n",
        "pd.set_option('display.max_columns', None)"
      ],
      "execution_count": null,
      "outputs": []
    },
    {
      "cell_type": "code",
      "metadata": {
        "id": "JVd8K-7gn6s-"
      },
      "source": [
        "df"
      ],
      "execution_count": null,
      "outputs": []
    },
    {
      "cell_type": "markdown",
      "metadata": {
        "id": "ePJcvgzRnDdw"
      },
      "source": [
        "# EDA"
      ]
    },
    {
      "cell_type": "markdown",
      "metadata": {
        "id": "edIHB8eSJvs3"
      },
      "source": [
        "# Data Preprocessing"
      ]
    },
    {
      "cell_type": "markdown",
      "metadata": {
        "id": "8C8ubg6137AE"
      },
      "source": [
        "###  Year Data 전처리"
      ]
    },
    {
      "cell_type": "code",
      "metadata": {
        "id": "rerbtK8KtgBd"
      },
      "source": [
        "# Year 데이터중 잘못 표기된 데이터 확인 \n",
        "# 1800년 이전에는 비디오게임이 없었기 때문에 Year변수의 값이 1800이하인 데이터의 수를 파악\n",
        "df.loc[df['Year'] < 1800,:].value_counts(df['Year'])"
      ],
      "execution_count": null,
      "outputs": []
    },
    {
      "cell_type": "code",
      "metadata": {
        "id": "s-JbLW4p5Ob8"
      },
      "source": [
        "# 50이상인 데이터는 1950년 ~ 2000년 데이터로 판단.\n",
        "# 50이하인 데이터는 2000년 이후 데이터로 판단.\n",
        "\n",
        "def correct_year(value):\n",
        "  if (value < 1800) & (50 < value):\n",
        "    value = value + 1900\n",
        "    return value\n",
        "  elif value < 50:\n",
        "    value = value + 2000\n",
        "    return value\n",
        "  else:\n",
        "    return value"
      ],
      "execution_count": null,
      "outputs": []
    },
    {
      "cell_type": "code",
      "metadata": {
        "id": "DjMqCmgEyWl5"
      },
      "source": [
        "# 연도 데이터 수정\n",
        "# 연도 데이터는 연도 데이터끼리 연산이 필요하지 않고, 연도별 데이터를 group by하기 위해 문자형 데이터로 변환하는것이 유용하다고 판단.\n",
        "df['Year'] = df['Year'].apply(correct_year).astype(pd.Int64Dtype()).astype(str)\n",
        "\n",
        "# correct_year함수로 연도데이터 수정. \n",
        "# .astype(Int64Dtype)로 NaN값을 제외한 나머지 연도 데이터를 정수로 변환. \n",
        "# .astype(str)로 문자형으로 변환."
      ],
      "execution_count": null,
      "outputs": []
    },
    {
      "cell_type": "markdown",
      "metadata": {
        "id": "HdlCL24D4K1d"
      },
      "source": [
        "### Sales Data 전처리"
      ]
    },
    {
      "cell_type": "code",
      "metadata": {
        "id": "iJvNQolnizb3"
      },
      "source": [
        "# K는 1,000, M은 1,000,000으로 변환.\n",
        "# K, M으로 표기되지 않은 데이터는 \n",
        "def correct_scale(value):\n",
        "  if value[-1] == 'K':\n",
        "    value = value.replace('K','')\n",
        "    value = float(value)*0.001\n",
        "    return value\n",
        "  elif value[-1] == 'M':\n",
        "    value = value.replace('M','')\n",
        "    return value\n",
        "  else:\n",
        "    return value"
      ],
      "execution_count": null,
      "outputs": []
    },
    {
      "cell_type": "code",
      "metadata": {
        "id": "bUYLf5El0Gk0"
      },
      "source": [
        "df['NA_Sales'] = pd.to_numeric(df['NA_Sales'].apply(correct_scale))\n",
        "df['EU_Sales'] = pd.to_numeric(df['EU_Sales'].apply(correct_scale))\n",
        "df['JP_Sales'] = pd.to_numeric(df['JP_Sales'].apply(correct_scale))\n",
        "df['Other_Sales'] = pd.to_numeric(df['Other_Sales'].apply(correct_scale))"
      ],
      "execution_count": null,
      "outputs": []
    },
    {
      "cell_type": "markdown",
      "metadata": {
        "id": "Yz0M2ghCDbrn"
      },
      "source": [
        "### Missing Data 전처리"
      ]
    },
    {
      "cell_type": "code",
      "metadata": {
        "id": "bY1L8oOaZvJO"
      },
      "source": [
        "# 각 column별 결측치 수\n",
        "df.isnull().sum(axis = 0)"
      ],
      "execution_count": null,
      "outputs": []
    },
    {
      "cell_type": "code",
      "metadata": {
        "id": "9Rdf0orWLF4f"
      },
      "source": [
        "# 우선 결측치가 있는 데이터 행을 뽑아보자\n",
        "df.loc[df.isnull().sum(axis = 1) == True,:]\n"
      ],
      "execution_count": null,
      "outputs": []
    },
    {
      "cell_type": "markdown",
      "metadata": {
        "id": "uY6Eoxb9Qvb4"
      },
      "source": [
        "# 필수사항"
      ]
    },
    {
      "cell_type": "markdown",
      "metadata": {
        "id": "qL7TTu0DQzNI"
      },
      "source": [
        "###  지역에 따른 장르 선호도 (필수사항)"
      ]
    },
    {
      "cell_type": "code",
      "metadata": {
        "id": "vSQkLKvtTcdi"
      },
      "source": [
        "# 장르별 누적 판매량\n",
        "groupby_genre = df.groupby('Genre', as_index = False).sum()\n",
        "groupby_genre"
      ],
      "execution_count": null,
      "outputs": []
    },
    {
      "cell_type": "markdown",
      "metadata": {
        "id": "5hNTefVWQ33h"
      },
      "source": [
        "###  연도별 게임 트렌드 (필수사항)"
      ]
    },
    {
      "cell_type": "code",
      "metadata": {
        "id": "EqPVPZ-DTdIU"
      },
      "source": [
        "groupby_year = df.groupby('Year', as_index = False).sum()\n",
        "groupby_year"
      ],
      "execution_count": null,
      "outputs": []
    },
    {
      "cell_type": "code",
      "metadata": {
        "id": "TV888ay80XZA"
      },
      "source": [
        "# 연도 및 장르별 판매량\n",
        "df_groupby = df.groupby(['Year','Genre'], as_index = False).sum()\n",
        "df_groupby['Total_Sales'] = df_groupby.iloc[:,2:].sum(axis = 1)\n",
        "df_groupby"
      ],
      "execution_count": null,
      "outputs": []
    },
    {
      "cell_type": "code",
      "metadata": {
        "id": "-TgDU71GwdmN"
      },
      "source": [
        "# 연도별 게임 장르 트렌드 시각화\n",
        "fig2 = px.line(df_groupby, x = 'Year', y = 'Total_Sales', color = 'Genre',title = 'Game Trend')\n",
        "fig2.show()"
      ],
      "execution_count": null,
      "outputs": []
    },
    {
      "cell_type": "markdown",
      "metadata": {
        "id": "K5ASmVwIQ4W6"
      },
      "source": [
        "###  출고량이 높은 게임에 대한 분석 및 시각화 프로세스 (필수사항)"
      ]
    },
    {
      "cell_type": "code",
      "metadata": {
        "id": "ArB8fhQq8Rzi"
      },
      "source": [
        "df.dtypes"
      ],
      "execution_count": null,
      "outputs": []
    },
    {
      "cell_type": "code",
      "metadata": {
        "id": "mo4CtEg6FaZ5"
      },
      "source": [
        "# 멀티플랫폼 출시, 리마스터와 같은 이유로 동일한 이름의 중복데이터를 하나의 이름으로 병합.\n",
        "df_title = df.groupby('Name', as_index = False).sum()\n",
        "df_title['Total_Sales'] = df_title.iloc[:,1:].sum(axis = 1)\n",
        "df_title.sort_values(by = 'Total_Sales')"
      ],
      "execution_count": null,
      "outputs": []
    },
    {
      "cell_type": "code",
      "metadata": {
        "id": "ujv5aJqr32oO"
      },
      "source": [
        "# fig.write_html(\"./fig_NA.html\")"
      ],
      "execution_count": null,
      "outputs": []
    },
    {
      "cell_type": "code",
      "metadata": {
        "id": "Ax0UCK2BFlJO"
      },
      "source": [
        ""
      ],
      "execution_count": null,
      "outputs": []
    }
  ]
}