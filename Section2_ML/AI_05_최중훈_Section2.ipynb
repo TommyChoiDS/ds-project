{
  "nbformat": 4,
  "nbformat_minor": 0,
  "metadata": {
    "colab": {
      "name": "AI_05_최중훈_Section2.ipynb",
      "private_outputs": true,
      "provenance": [],
      "collapsed_sections": [],
      "toc_visible": true,
      "include_colab_link": true
    },
    "kernelspec": {
      "name": "python3",
      "display_name": "Python 3"
    },
    "language_info": {
      "name": "python"
    }
  },
  "cells": [
    {
      "cell_type": "markdown",
      "metadata": {
        "id": "view-in-github",
        "colab_type": "text"
      },
      "source": [
        "<a href=\"https://colab.research.google.com/github/TommyChoiDS/ds-section1-project/blob/main/AI_05_%E1%84%8E%E1%85%AC%E1%84%8C%E1%85%AE%E1%86%BC%E1%84%92%E1%85%AE%E1%86%AB_Section2.ipynb\" target=\"_parent\"><img src=\"https://colab.research.google.com/assets/colab-badge.svg\" alt=\"Open In Colab\"/></a>"
      ]
    },
    {
      "cell_type": "markdown",
      "metadata": {
        "id": "YNi-JsQPE_TB"
      },
      "source": [
        "# 1. 데이터 선정 이유 및 문제 정의\n",
        "\n",
        "- 데이터 설명 : 프로젝트에 활용된 데이터는 미국 Iowa주 ames의 집값 데이터이다. 자주 인용되는 Boston 집값 데이터에 비해 다양한 변수가 있다. \n",
        "\n",
        "- 데이터 선정 이유 : ames 집값 예측데이터는 kaggle getting started 대회에서도 사용되고 있으며, 변수의 수가 많아 다양한 Feature Engineering을 시도해 볼 수 있다.  Section2에서 배운 내용을 잘 활용하여 좋은 모델을 만들 수 있을것으로 생각해 선정하게 되었다.\n",
        "\n",
        "\n",
        "- 주어진 문제는 ames의 집값을 예측하는것이고, 집값은 연속형 실수 데이터이기 때문에 회귀유형의 문제로 정의하고 집값을 예측한다.\n"
      ]
    },
    {
      "cell_type": "markdown",
      "metadata": {
        "id": "_25xJeaAVQ66"
      },
      "source": [
        "## 라이브러리 설치 및 불러오기"
      ]
    },
    {
      "cell_type": "code",
      "metadata": {
        "id": "WgKY4zaGdqB8"
      },
      "source": [
        "# !pip install category_encoders\n",
        "# !pip install catboost\n",
        "# !pip install -U pandas-profiling\n",
        "# !pip install lightgbm\n",
        "# !pip install eli5"
      ],
      "execution_count": null,
      "outputs": []
    },
    {
      "cell_type": "code",
      "metadata": {
        "id": "wBkQeOzz8kdk"
      },
      "source": [
        "from google.colab import drive\n",
        "drive.mount('./gdrive')\n",
        "!mkdir /root/.kaggle/\n",
        "!cp /content/gdrive/MyDrive/kaggle.json /root/.kaggle/   \n",
        "!chmod 600 /root/.kaggle/kaggle.json\n",
        "!kaggle competitions download -c home-data-for-ml-course"
      ],
      "execution_count": null,
      "outputs": []
    },
    {
      "cell_type": "code",
      "metadata": {
        "id": "m55e-oLSdqEr"
      },
      "source": [
        "import pandas as pd\n",
        "import numpy as np\n",
        "from sklearn.model_selection import train_test_split\n",
        "from pandas_profiling import ProfileReport\n",
        "import seaborn as sns\n",
        "import matplotlib.pyplot as plt\n",
        "from sklearn.ensemble import RandomForestRegressor\n",
        "from xgboost import XGBRegressor\n",
        "from lightgbm import LGBMRegressor\n",
        "from catboost import CatBoostRegressor\n",
        "from sklearn.pipeline import make_pipeline\n",
        "from sklearn.impute import SimpleImputer\n",
        "import sklearn.metrics\n",
        "from sklearn.preprocessing import LabelEncoder\n",
        "from category_encoders import OrdinalEncoder"
      ],
      "execution_count": null,
      "outputs": []
    },
    {
      "cell_type": "markdown",
      "metadata": {
        "id": "6sGia8lIVK4E"
      },
      "source": [
        "## 2. 데이터 불러오기"
      ]
    },
    {
      "cell_type": "code",
      "metadata": {
        "id": "bJ3NO8CldqHt"
      },
      "source": [
        "train = pd.read_csv('./train.csv')\n",
        "test = pd.read_csv('./test.csv')\n",
        "train, valid = train_test_split(train, train_size = 0.8, test_size = 0.2, random_state = 2)\n",
        "sub = pd.read_csv('sample_submission.csv')"
      ],
      "execution_count": null,
      "outputs": []
    },
    {
      "cell_type": "code",
      "metadata": {
        "id": "kY-ZOlew5Nsv"
      },
      "source": [
        "train.head()"
      ],
      "execution_count": null,
      "outputs": []
    },
    {
      "cell_type": "code",
      "metadata": {
        "id": "GFF-etTu2XGL"
      },
      "source": [
        "train.shape"
      ],
      "execution_count": null,
      "outputs": []
    },
    {
      "cell_type": "code",
      "metadata": {
        "id": "MHZvSq858yhc"
      },
      "source": [
        "train['PavedDrive'].value_counts()"
      ],
      "execution_count": null,
      "outputs": []
    },
    {
      "cell_type": "markdown",
      "metadata": {
        "id": "DyPCRByF2l0f"
      },
      "source": [
        "## 변수 설명\n",
        "\n",
        "\n",
        "\n",
        "*  MSSubClass : 건물 등급\n",
        "*  MSZoning : 일반 구역 분류\n",
        "*  LotFrontage : 부동산에 연결된 거리의 선형 피트\n",
        "*  LotArea : 평방 피트 단위의 부지 크기\n",
        "*  Street : 도로 접근 유형\n",
        "*  Alley : 골목 접근 유형\n",
        "*  LotShape : 부동산의 일반적인 모양\n",
        "*  LandContour : 부동산의 평탄도\n",
        "*  Utilities : 사용 가능한 유틸리티 유형(에너지 유형이란 뜻, 전기, 가스, 수도 등을 유틸리티로 통칭함)\n",
        "*  LotConfig : 로트 구성\n",
        "*  LandSlope : 재산의 경사\n",
        "*  Neighborhood : 에임스시 경계 내의 물리적 위치 \n",
        "*  Condition1 : 주요 도로 또는 철도와의 근접성\n",
        "*  Condition2 : 주요 도로 또는 철도와의 근접성 (초가있는 경우)\n",
        "*  BldgType : 주거 유형\n",
        "*  HouseStyle : 주거 스타일\n",
        "*  OverallQual : 전체 재료 및 마감 품질\n",
        "*  OverallCond : 전체 상태 등급\n",
        "*  YearBuilt : 원래 건설 날짜\n",
        "*  YearRemodAdd : 리모델링 날짜\n",
        "*  RoofStyle : 지붕 유형\n",
        "*  RoofMatl : 지붕 재료\n",
        "*  Exterior1st : 집 외장재1\n",
        "*  Exterior2nd : 집 외장재2 (하나 이상의 재료 인 경우)\n",
        "*  MasVnrType : 벽돌 베니어 유형\n",
        "*  MasVnrArea : 벽돌 베니어 면적 (평방 피트)\n",
        "*  ExterQual : 외장재 품질\n",
        "*  ExterCond : 외장재의 현황\n",
        "*  Basement : 지하실 유무\n",
        "*  BsmtQual : 지하실 높이\n",
        "*  BsmtCond : 지하실의 일반 상태\n",
        "*  BsmtExposure : 워크 아웃 또는 정원 수준의 지하 벽\n",
        "*  BsmtFinType1 : 지하실 마감 면적의 품질\n",
        "*  BsmtFinSF1 : 유형 1 완성 평방 피트\n",
        "*  BsmtFinType2 : 두 번째 완성 된 영역의 품질 (있는 경우)\n",
        "*  BsmtFinSF2 : 유형 2 마감 평방 피트\n",
        "*  BsmtUnfSF : 미완성 된 지하실 면적\n",
        "*  TotalBsmtSF : 지하 총 평방 피트\n",
        "*  Heating : 난방 유형\n",
        "*  HeatingQC : 난방 품질 및 상태\n",
        "*  CentralAir : 중앙 에어컨\n",
        "*  Electrical : 전기 시스템\n",
        "*  1stFlrSF : 1 층 평방 피트\n",
        "*  2ndFlrSF : 2 층 평방 피트\n",
        "*  LowQualFinSF : 저품질 마감 평방 피트 (모든 층)\n",
        "*  GrLivArea : 지상 (지상) 거실 면적 평방 피트\n",
        "*  BsmtFullBath : 지하 Fullbath 여부\n",
        "*  BsmtHalfBath : 지하 Halfbath 여부\n",
        "*  FullBath : Fullbath 여부(Fullbath : 세면대1, 욕조1, 샤워부스1, 변기1로 구성된 화장실)\n",
        "*  HalfBath : Halfbath 여부(Halfbath : 세면대1, 변기1로 구성된 화장실)\n",
        "*  Bedroom : 지하층 이상의 침실 수\n",
        "*  Kitchen : 주방 수\n",
        "*  KitchenQual : 주방 품질\n",
        "*  TotRmsAbvGrd : 기준 이상의 방 갯수 (화장실 제외)\n",
        "*  Functional : 홈 기능 등급\n",
        "*  Fireplaces : 벽난로 수\n",
        "*  FireplaceQu : 벽난로 품질\n",
        "*  GarageType : 차고 위치\n",
        "*  GarageYrBlt : 차고 건설 연도\n",
        "*  GarageFinish : 차고 내부 마감\n",
        "*  GarageCars : 차량 수용 가능 차고 크기\n",
        "*  GarageArea : 차고 크기 (평방 피트)\n",
        "*  GarageQual : 차고 품질\n",
        "*  GarageCond : 차고 상태\n",
        "*  PavedDrive : 포장 된 진입로\n",
        "*  WoodDeckSF : 목재 데크 면적 (평방 피트)\n",
        "*  OpenPorchSF : 평방 피트 단위의 열린 현관 영역\n",
        "*  EnclosedPorch : 닫힌 현관 영역 (평방 피트)\n",
        "*  3SsnPorch : 평방 피트 단위의 3 계절 현관 면적\n",
        "*  ScreenPorch : 스크린 현관 영역 (평방 피트)\n",
        "*  PoolArea : 수영장 면적 (평방 피트)\n",
        "*  PoolQC : 수영장 품질\n",
        "*  Fence : 울타리 품질\n",
        "*  MiscFeature : 다른 카테고리에서 다루지 않는 기타 기능\n",
        "*  MiscVal : 기타 기능의 $ Value\n",
        "*  MoSold : 판매 월\n",
        "*  YrSold : 판매 연도\n",
        "*  SaleType : 판매 유형\n",
        "*  SaleCondition : 판매 조건"
      ]
    },
    {
      "cell_type": "markdown",
      "metadata": {
        "id": "jH9QwMd2F7ux"
      },
      "source": [
        "# 2. 데이터를 이용한 가설 및 평가지표, 베이스라인 선택\n",
        "\n",
        "- 가설:\n",
        "    - 건물이 얼마나 오래되었는지에 따라 집의 가격이 달라질 것이다.\n",
        "    - 리모델링한지 얼마나 오래되었는지에 따라 집의 가격이 달라질 것이다.\n",
        "    - 건물의 총 면적에 따라 집의 가격이 달라질 것이다.\n",
        "- 예측하고자 하는 변수\n",
        "    -  target: SalePrice($)\n",
        "- 베이스라인 모델(해당 베이스라인 모델과 평가지표를 선택한 이유를 설명)\n",
        "  -  앙상블 모델의 기본이라 할 수 있는 RandomForest를 baseline model로 지정한다.\n",
        "  -  RandomForest의 hyperparameter를 기본값으로 두고 학습을 진행하여 성능향상의 기준으로 정한다.\n",
        "- 평가지표 선택\n",
        "    - 회귀문제 평가지표:\n",
        "    - RMSLE (Root Mean Squared Log Error): 큰 오차값에 대해 영향을 덜 받는 RMSLE(Root-Mean-Squared-Log-Error)를 사용.\n"
      ]
    },
    {
      "cell_type": "markdown",
      "metadata": {
        "id": "aq3QA5H-XpY9"
      },
      "source": [
        "# 3. EDA/데이터 전처리"
      ]
    },
    {
      "cell_type": "markdown",
      "metadata": {
        "id": "eYQQpKfjHinZ"
      },
      "source": [
        "##  EDA"
      ]
    },
    {
      "cell_type": "code",
      "metadata": {
        "id": "mcvk_c9nVDuI"
      },
      "source": [
        "# data shape\n",
        "print('train:',train.shape)\n",
        "print('valid:',valid.shape)\n",
        "print('test:',test.shape)"
      ],
      "execution_count": null,
      "outputs": []
    },
    {
      "cell_type": "code",
      "metadata": {
        "id": "1xeVVi4juSyH"
      },
      "source": [
        "# data profiling\n",
        "profile = ProfileReport(train, minimal = True).to_notebook_iframe()\n",
        "\n"
      ],
      "execution_count": null,
      "outputs": []
    },
    {
      "cell_type": "markdown",
      "metadata": {
        "id": "2IW3LgqzntXS"
      },
      "source": [
        "## 어떤 변수가 target과 상관관계가 높은지 확인\n",
        "* target과 상관관계가 높은것부터 내림차순으로 나열해본 결과는 다음과 같다.\n",
        "```\n",
        "OverallQual      0.784354\n",
        "GrLivArea        0.686425\n",
        "GarageCars       0.632043\n",
        "GarageArea       0.621604\n",
        "TotalBsmtSF      0.611302\n",
        "```"
      ]
    },
    {
      "cell_type": "code",
      "metadata": {
        "id": "sutm0ENjm3Rd"
      },
      "source": [
        "train.corr()[\"SalePrice\"].sort_values(ascending = False)"
      ],
      "execution_count": null,
      "outputs": []
    },
    {
      "cell_type": "markdown",
      "metadata": {
        "id": "_aJcy75wXGI3"
      },
      "source": [
        "## 상관계수가 높은 변수들의 산점도를 그려 target변수와 어떤 관계가 있는지 파악"
      ]
    },
    {
      "cell_type": "code",
      "metadata": {
        "id": "NWozFRFio-ds"
      },
      "source": [
        "plt.figure(figsize = (15,12));\n",
        "\n",
        "plt.subplot(321);\n",
        "sns.scatterplot(train[\"OverallQual\"],train[\"SalePrice\"]);\n",
        "\n",
        "plt.subplot(322);\n",
        "sns.scatterplot(train[\"GrLivArea\"],train[\"SalePrice\"]);\n",
        "\n",
        "plt.subplot(323);\n",
        "sns.scatterplot(train[\"GarageCars\"],train[\"SalePrice\"]);\n",
        "\n",
        "plt.subplot(324);\n",
        "sns.scatterplot(train[\"GarageArea\"],train[\"SalePrice\"]);\n",
        "\n",
        "plt.subplot(325);\n",
        "sns.scatterplot(train[\"TotalBsmtSF\"],train[\"SalePrice\"]);\n",
        "\n",
        "plt.subplot(326);\n",
        "sns.scatterplot(train[\"1stFlrSF\"],train[\"SalePrice\"]);\n"
      ],
      "execution_count": null,
      "outputs": []
    },
    {
      "cell_type": "markdown",
      "metadata": {
        "id": "FFEsSU9Ix3fM"
      },
      "source": [
        "## 로그변환\n",
        "\n",
        "  * 선형 모델을 사용할 때, target변수의 분포가 왼쪽으로 치우친 모양일 경우 target변수에 로그변환을 한 후, 예측한 결과를 다시 지수변환을 해준다.\n",
        "  * 로그변환이 필요한지 알아보기 위해 SalePrice의 분포를 확인한다.\n",
        "  * 분포를 확인한 결과, SalePrice의 분포가 왼쪽으로 치우쳐져 있어 선형모델 학습시 로그 변환이 필요하다.\n",
        "  * 사용할 모델은 부스팅계열 모델이고, 비선형 모델이므로 로그변환을 하지 않는다."
      ]
    },
    {
      "cell_type": "code",
      "metadata": {
        "id": "zWkIj6qYyf7-"
      },
      "source": [
        "plt.figure(figsize = (15,12))\n",
        "sns.distplot(train['SalePrice'])"
      ],
      "execution_count": null,
      "outputs": []
    },
    {
      "cell_type": "markdown",
      "metadata": {
        "id": "MBmJmejFGGi5"
      },
      "source": [
        "## 데이터 전처리\n",
        "\n",
        "\n",
        " - 이상치 처리 : \n",
        "    - 상관계수가 높은 변수들로 산점도를 그려본 결과, target변수와 선형관계를 보인다. 그러나 GrLivArea변수의 산점도에서 볼 수 있듯 거실 면적이 넓은데도 판매 가격이 높지 않은 경우가 있다. 이러한 데이터는 모델에 영향을 줄 수 있기 때문에 이상치로 판단하고 제거해준다.\n",
        "    - 이상치를 제거하는 이유는 모델링에 영향을 주기 때문이므로, train 데이터셋의 이상치만 제거하고 validation과 test 데이터셋의 이상치는 제거하지 않는다.\n",
        " - 결측값 처리 : \n",
        "   - 수치형 변수의 결측치는 이상치에 영향을 덜 받는 중앙값으로 대체하고, 범주형 변수는 최빈값으로 대체한다.\n",
        " - 불필요한 컬럼 처리 :\n",
        "    - ID 변수는 단순한 index이므로 모델 성능 향상에 의미가 없다고 판단하여 제거한다.\n",
        "    - Utilities 변수의 NoSeWa 항목은 train데이터에서 단 1개, test데이터에서는 전혀 없으므로 의미가 없다고 판단하여 제거한다.\n",
        "    - Street 변수의 Grvl 항목은 train데이터에서 4개, test데이터에서는 6개 이므로 의미가 없다고 판단하여 제거한다.\n",
        " - Feature Engineering :\n",
        "    - 판매시점의 연도와 건물이 지어진 연도의 차이로 건물이 얼마나 오래되었는지 나타내는 변수를 새로 생성한다.\n",
        "    - 판매시점의 연도와 건물이 리모델링된 연도의 차이로 건물을 리모델링한지 얼마나 오래되었는지 나타내는 변수를 새로 생성한다.\n",
        "    - 지상 거실 면적과 지하 면적을 합하여 건물의 총 면적을 나타내는 변수를 새로 생성한다."
      ]
    },
    {
      "cell_type": "code",
      "metadata": {
        "id": "QvWMZzRh2ASf"
      },
      "source": [
        "train"
      ],
      "execution_count": null,
      "outputs": []
    },
    {
      "cell_type": "code",
      "metadata": {
        "id": "CDeNutwNdqKq"
      },
      "source": [
        "# preprocessing\n",
        "\n",
        "def Feature_engineering(df):\n",
        "\n",
        "\n",
        "  df['old'] = df['YrSold'] - df['YearBuilt'] # 판매시점에 건물이 얼마나 오래되었는지 나타내는 변수\n",
        "  df['since_remod'] = df['YrSold'] - df['YearRemodAdd'] # 판매시점에 건물을 리모델링한지 얼마나 오래되었는지 나타내는 변수\n",
        "  df['totalarea'] = df['GrLivArea'] + df['TotalBsmtSF'] # 건물의 총 면적을 나타내는 변수  \n",
        "\n",
        "  # 결측치 대체\n",
        "  df_col = df.loc[:,(df.dtypes == object)]\n",
        "  df_col = df_col.fillna(df_col.mode().iloc[0])\n",
        "  df_num = df.loc[:,(df.dtypes != object)]\n",
        "  df_num = df_num.fillna(df_num.median())\n",
        "\n",
        "  df = pd.concat([df_col,df_num],axis = 1)\n",
        "\n",
        "\n",
        "\n",
        "  df = df.drop(['Utilities','Street'], axis = 1)\n",
        "\n",
        "\n",
        "  return df\n",
        "\n",
        "train = Feature_engineering(train)\n",
        "valid = Feature_engineering(valid)\n",
        "test = Feature_engineering(test)\n",
        "\n",
        "# 이상치 제거\n",
        "train = train.drop(train[(train[\"GrLivArea\"] > 4000)&(train[\"SalePrice\"] < 300000)].index)\n",
        "train = train.drop(train[(train[\"GarageArea\"] > 1300)&(train[\"SalePrice\"] < 300000)].index)\n",
        "\n",
        "\n",
        "train_x = train.drop('SalePrice', axis = 1)\n",
        "valid_x = valid.drop('SalePrice', axis = 1)\n",
        "\n",
        "train_y = train['SalePrice']\n",
        "valid_y = valid['SalePrice']"
      ],
      "execution_count": null,
      "outputs": []
    },
    {
      "cell_type": "markdown",
      "metadata": {
        "id": "qDAR4cFkovtr"
      },
      "source": [
        "## 이상치 제거 확인"
      ]
    },
    {
      "cell_type": "code",
      "metadata": {
        "id": "L_VMBVNHopWf"
      },
      "source": [
        "plt.figure(figsize = (15,12));\n",
        "\n",
        "plt.subplot(321);\n",
        "sns.scatterplot(train[\"OverallQual\"],train[\"SalePrice\"]);\n",
        "\n",
        "plt.subplot(322);\n",
        "sns.scatterplot(train[\"GrLivArea\"],train[\"SalePrice\"]);\n",
        "\n",
        "plt.subplot(323);\n",
        "sns.scatterplot(train[\"GarageCars\"],train[\"SalePrice\"]);\n",
        "\n",
        "plt.subplot(324);\n",
        "sns.scatterplot(train[\"GarageArea\"],train[\"SalePrice\"]);\n",
        "\n",
        "plt.subplot(325);\n",
        "sns.scatterplot(train[\"TotalBsmtSF\"],train[\"SalePrice\"]);\n",
        "\n",
        "plt.subplot(326);\n",
        "sns.scatterplot(train[\"1stFlrSF\"],train[\"SalePrice\"]);\n"
      ],
      "execution_count": null,
      "outputs": []
    },
    {
      "cell_type": "markdown",
      "metadata": {
        "id": "BZp_y_TTGKDh"
      },
      "source": [
        "# 4. 머신러닝 방식 적용 및 교차검증\n",
        "모델을 학습, 평가지표를 계산 후 베이스라인과 비교 \n",
        "-> 어느정도 성능이 나왔다면, 교차 검증 (CV)을 통해서 일반화될 가능성이 있는지 확인, 모델 성능을 개선하기 위한 다양한 방법을 적용(Hyperparameter tuning)\n",
        "\n",
        "\n",
        "최소 2개 이상의 모델을 만들어서 validation 점수를 보고, 최종 모델의 test 점수를 보고\n",
        "\n",
        "  - Q 모델을 학습한 후에 베이스라인보다 잘 나왔나요? 그렇지 않다면 그 이유는 무엇일까요?\n",
        "  - Q 모델 성능 개선을 위해 어떤 방법을 적용했나요? 그 방법을 선택한 이유는 무엇인가요?\n",
        "  - 최종 모델에 관해 설명하세요."
      ]
    },
    {
      "cell_type": "markdown",
      "metadata": {
        "id": "T65LKDr7cV_g"
      },
      "source": [
        "## 1) Baseline"
      ]
    },
    {
      "cell_type": "code",
      "metadata": {
        "id": "8lnHBchJdqNd"
      },
      "source": [
        "# Baseline prediction\n",
        "\n",
        "pipe_base = make_pipeline(\n",
        "    OrdinalEncoder(),\n",
        "    RandomForestRegressor(random_state = 2)\n",
        "    \n",
        ")\n",
        "\n",
        "pipe_base.fit(train_x, train_y)\n",
        "result = pipe_base.predict(valid_x)\n",
        "\n",
        "print('Baseline :',sklearn.metrics.mean_squared_log_error(result,valid_y)**0.5)"
      ],
      "execution_count": null,
      "outputs": []
    },
    {
      "cell_type": "markdown",
      "metadata": {
        "id": "ptqhOdVWv-oW"
      },
      "source": [
        "## 2) XGBoost"
      ]
    },
    {
      "cell_type": "code",
      "metadata": {
        "id": "rWtorNM-rbWA"
      },
      "source": [
        "# XGBoost prediction\n",
        "\n",
        "pipe_xgb = make_pipeline(\n",
        "    OrdinalEncoder(),\n",
        "    XGBRegressor(verbosity = 0)\n",
        "    \n",
        ")\n",
        "\n",
        "pipe_xgb.fit(train_x, train_y)\n",
        "result = pipe_xgb.predict(valid_x)\n",
        "\n",
        "print('XGBoost :',sklearn.metrics.mean_squared_log_error(result,valid_y)**0.5)"
      ],
      "execution_count": null,
      "outputs": []
    },
    {
      "cell_type": "markdown",
      "metadata": {
        "id": "rNfENHgnwGMg"
      },
      "source": [
        "## 3) LGBM"
      ]
    },
    {
      "cell_type": "code",
      "metadata": {
        "id": "eFKO6DmgtG5q"
      },
      "source": [
        "# LightGBM prediction\n",
        "\n",
        "pipe_lgbm = make_pipeline(\n",
        "    OrdinalEncoder(),\n",
        "    LGBMRegressor()\n",
        "    \n",
        ")\n",
        "pipe_lgbm.fit(train_x, train_y)\n",
        "result = pipe_lgbm.predict(valid_x)\n",
        "\n",
        "print('LGBM :',sklearn.metrics.mean_squared_log_error(result,valid_y)**0.5)"
      ],
      "execution_count": null,
      "outputs": []
    },
    {
      "cell_type": "markdown",
      "metadata": {
        "id": "HmZ6QKc9wK_z"
      },
      "source": [
        "## 4) CatBoost"
      ]
    },
    {
      "cell_type": "code",
      "metadata": {
        "id": "UzZqCebutHC0"
      },
      "source": [
        "# Catboost prediction\n",
        "\n",
        "pipe_cat = make_pipeline(\n",
        "    OrdinalEncoder(),\n",
        "    CatBoostRegressor(verbose=0)\n",
        ")\n",
        "\n",
        "pipe_cat.fit(train_x, train_y)\n",
        "result = pipe_cat.predict(valid_x)\n",
        "\n",
        "print('catboost :',sklearn.metrics.mean_squared_log_error(result,valid_y)**0.5)"
      ],
      "execution_count": null,
      "outputs": []
    },
    {
      "cell_type": "markdown",
      "metadata": {
        "id": "YRzeP_6nrlR9"
      },
      "source": [
        "## 5) Hyper parameter tuning"
      ]
    },
    {
      "cell_type": "code",
      "metadata": {
        "id": "DxuhG14rNzMn"
      },
      "source": [
        "import catboost\n",
        "from sklearn.preprocessing import OrdinalEncoder\n",
        "ordinal_encoder = OrdinalEncoder()\n",
        "train_x = ordinal_encoder.fit_transform(train_x)\n",
        "valid_x = ordinal_encoder.fit_transform(valid_x)\n",
        "\n",
        "\n",
        "model = CatBoostRegressor()\n",
        "\n",
        "\n",
        "grid = {'learning_rate': [0.03, 0.1],\n",
        "        'depth': [4, 6, 10],\n",
        "        'l2_leaf_reg': [1, 3, 5, 7, 9]}\n",
        "\n",
        "randomized_search_result = model.randomized_search(grid,\n",
        "                                                   X=train_x,\n",
        "                                                   y=train_y,\n",
        "                                                   plot=True)"
      ],
      "execution_count": null,
      "outputs": []
    },
    {
      "cell_type": "code",
      "metadata": {
        "id": "DlUJgVZeXKMV"
      },
      "source": [
        "randomized_search_result"
      ],
      "execution_count": null,
      "outputs": []
    },
    {
      "cell_type": "code",
      "metadata": {
        "id": "TCmYGtZzPLdz"
      },
      "source": [
        "# Catboost prediction - RandomizedSearchCV\n",
        "\n",
        "pipe_cat = make_pipeline(\n",
        "    # OrdinalEncoder(),\n",
        "    CatBoostRegressor(verbose=0, learning_rate = 0.03, depth=6, l2_leaf_reg = 3)\n",
        ")\n",
        "\n",
        "pipe_cat.fit(train_x, train_y)\n",
        "result = pipe_cat.predict(valid_x)\n",
        "\n",
        "print('catboost :',sklearn.metrics.mean_squared_log_error(result,valid_y)**0.5)"
      ],
      "execution_count": null,
      "outputs": []
    },
    {
      "cell_type": "code",
      "metadata": {
        "id": "OfE10Lokrh4H"
      },
      "source": [
        "sub['SalePrice'] = result\n",
        "sub\n",
        "sub.to_csv(\"sub.csv\",index = False)"
      ],
      "execution_count": null,
      "outputs": []
    },
    {
      "cell_type": "markdown",
      "metadata": {
        "id": "I1iKdbvMGUP1"
      },
      "source": [
        "# 5. 머신러닝 모델 해석\n",
        "SHAP, PDP 등을 통해서 모델이 관측치를 어떤 특성을 활용했거나, 어떤 특성이 타겟에 영향을 끼쳤는지 등을 해석할 수 있습니다. PDP, SHAP을 활용하여 최종 모델을 설명합니다.\n",
        "\n",
        "  - Q 모델이 관측치를 예측하기 위해서 어떤 특성을 활용했나요?\n",
        "  - Q 어떤 특성이 있다면 모델의 예측에 도움이 될까요? 해당 특성은 어떻게 구할 수 있을까요?"
      ]
    },
    {
      "cell_type": "code",
      "metadata": {
        "id": "dUyKLcYqjkPn"
      },
      "source": [
        "from sklearn.pipeline import Pipeline\n",
        "pipe_final = Pipeline([\n",
        "    ('preprocessing', make_pipeline(OrdinalEncoder())),\n",
        "    ('cat', CatBoostRegressor(iterations = 4000, verbose = 1000, max_depth = 6)) \n",
        "])"
      ],
      "execution_count": null,
      "outputs": []
    },
    {
      "cell_type": "code",
      "metadata": {
        "id": "0vZha6rjnslK"
      },
      "source": [
        "pipe_final.fit(train_x, train_y)\n",
        "print('검증 정확도: ', pipe_final.score(valid_x, valid_y))"
      ],
      "execution_count": null,
      "outputs": []
    },
    {
      "cell_type": "code",
      "metadata": {
        "id": "NGWvMZEuacWs"
      },
      "source": [
        "import warnings\n",
        "warnings.simplefilter(action='ignore', category=FutureWarning)\n",
        "\n",
        "import eli5\n",
        "from eli5.sklearn import PermutationImportance\n",
        "\n",
        "# permuter 정의\n",
        "permuter = PermutationImportance(\n",
        "    pipe_final.named_steps['cat'], # model\n",
        "    scoring='neg_mean_squared_log_error', # metric\n",
        "    n_iter=5, # 다른 random seed를 사용하여 5번 반복\n",
        "    random_state = 2\n",
        ")\n",
        "\n",
        "# permuter 계산은 preprocessing 된 X_val을 사용합니다.\n",
        "valid_x_transformed = pipe_final.named_steps['preprocessing'].transform(valid_x)\n",
        "\n",
        "# 실제로 fit 의미보다는 스코어를 다시 계산하는 작업입니다\n",
        "permuter.fit(valid_x_transformed, valid_y);"
      ],
      "execution_count": null,
      "outputs": []
    },
    {
      "cell_type": "code",
      "metadata": {
        "id": "cGjCYIf8oRVH"
      },
      "source": [
        "feature_names = valid_x.columns.tolist()\n",
        "pd.Series(permuter.feature_importances_, feature_names).sort_values()"
      ],
      "execution_count": null,
      "outputs": []
    },
    {
      "cell_type": "code",
      "metadata": {
        "id": "TLDy5vv2oGBN"
      },
      "source": [
        "# 특성별 score 확인\n",
        "eli5.show_weights(\n",
        "    permuter, \n",
        "    top=None, # top n 지정 가능, None 일 경우 모든 특성 \n",
        "    feature_names=feature_names # list 형식으로 넣어야 합니다\n",
        ")"
      ],
      "execution_count": null,
      "outputs": []
    }
  ]
}